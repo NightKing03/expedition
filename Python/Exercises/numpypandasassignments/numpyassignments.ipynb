{
 "cells": [
  {
   "cell_type": "markdown",
   "id": "afa0ae99",
   "metadata": {},
   "source": [
    "# Module: NumPy Assignments\n",
    "## Lesson: NumPy\n"
   ]
  },
  {
   "cell_type": "markdown",
   "id": "aa7b3071",
   "metadata": {},
   "source": [
    "### Assignment 1: Array Creation and Manipulation\n",
    "\n",
    "1. Create a NumPy array of shape (5, 5) filled with random integers between 1 and 20. Replace all the elements in the third column with 1.\n"
   ]
  },
  {
   "cell_type": "code",
   "execution_count": null,
   "id": "9f1e3107",
   "metadata": {},
   "outputs": [],
   "source": [
    "import numpy as np\n",
    "\n",
    "arr = np.random.randint(1,20,size=(5,5))   \n",
    "print(\"Original Array:\")\n",
    "print(arr)\n",
    "\n",
    "arr[:,2] = 1      # replacing the value in the 3rd coloumn with 1\n",
    "print(\"Modified Array:\")\n",
    "print(arr)"
   ]
  },
  {
   "cell_type": "markdown",
   "id": "481d8c3f",
   "metadata": {},
   "source": [
    "2. Create a NumPy array of shape (4, 4) with values from 1 to 16. Replace the diagonal elements with 0."
   ]
  },
  {
   "cell_type": "code",
   "execution_count": null,
   "id": "b2255b9a",
   "metadata": {},
   "outputs": [],
   "source": [
    "arr2 = np.arange(1,17).reshape(4,4)\n",
    "print(arr2)\n",
    "\n",
    "np.fill_diagonal(arr2, 0)\n",
    "print(\"Modified array:\")\n",
    "print(arr2)"
   ]
  },
  {
   "cell_type": "markdown",
   "id": "8a384b7e",
   "metadata": {},
   "source": [
    "### Assignment 2: Array Indexing and Slicing\n",
    "\n",
    "1. Create a NumPy array of shape (6, 6) with values from 1 to 36. Extract the sub-array consisting of the 3rd to 5th rows and 2nd to 4th columns.\n"
   ]
  },
  {
   "cell_type": "code",
   "execution_count": null,
   "id": "ca090158",
   "metadata": {},
   "outputs": [],
   "source": [
    "arr = np.arange(1,37).reshape(6,6)\n",
    "print(\"Original Array:\")\n",
    "print(arr)\n",
    "\n",
    "sub_array = arr[2:5][1:4]\n",
    "print(\"Extracted Array\")\n",
    "print(sub_array)"
   ]
  },
  {
   "cell_type": "markdown",
   "id": "69a50535",
   "metadata": {},
   "source": [
    "2. Create a NumPy array of shape (5, 5) with random integers. Extract the elements on the border."
   ]
  },
  {
   "cell_type": "code",
   "execution_count": null,
   "id": "6b7afb00",
   "metadata": {},
   "outputs": [],
   "source": [
    "arr = np.random.randint(1,20,size=(5,5))\n",
    "\n",
    "print(\"Array\")\n",
    "print(arr)\n",
    "\n",
    "border_elements = np.concatenate((arr[0,:],arr[-1,:],arr[1:-1,0],arr[1:-1,-1]))\n",
    "print('border_elements')\n",
    "print(border_elements)"
   ]
  },
  {
   "cell_type": "markdown",
   "id": "1343ac58",
   "metadata": {},
   "source": [
    "### Assignment 3: Array Operations\n",
    "\n",
    "1. Create two NumPy arrays of shape (3, 4) filled with random integers. Perform element-wise addition, subtraction, multiplication, and division."
   ]
  },
  {
   "cell_type": "code",
   "execution_count": null,
   "id": "1e13e6ed",
   "metadata": {},
   "outputs": [],
   "source": [
    "ar1 = np.random.randint(1,21,size=(3,4))\n",
    "\n",
    "ar2 = np.random.randint(1,21,size=(3,4))\n",
    "print(\"ADD\")\n",
    "print(ar1+ar2)\n",
    "print(\"Subs\")\n",
    "print(ar1-ar2)\n",
    "print('Multiply')\n",
    "print(ar1*ar2)\n",
    "print('Divide')\n",
    "print(ar1/ar2)"
   ]
  },
  {
   "cell_type": "markdown",
   "id": "2f736057",
   "metadata": {},
   "source": [
    "2. Create a NumPy array of shape (4, 4) with values from 1 to 16. Compute the row-wise and column-wise sum."
   ]
  },
  {
   "cell_type": "code",
   "execution_count": null,
   "id": "0fa3a527",
   "metadata": {},
   "outputs": [],
   "source": [
    "ar1 = np.arange(1,17).reshape(4,4)\n",
    "print(ar1)\n",
    "\n",
    "row_sum = np.sum(ar1,axis=1)    # axis=1 for row wise\n",
    "coloumn_sum = np.sum(ar1,axis=0) # axis = 0 for coloumn wise\n",
    "\n",
    "print(row_sum)\n",
    "print(coloumn_sum)"
   ]
  },
  {
   "cell_type": "markdown",
   "id": "b159f66a",
   "metadata": {},
   "source": [
    "### Assignment 4: Statistical Operations\n",
    "\n",
    "1. Create a NumPy array of shape (5, 5) filled with random integers. Compute the mean, median, standard deviation, and variance of the array."
   ]
  },
  {
   "cell_type": "code",
   "execution_count": null,
   "id": "2e17f988",
   "metadata": {},
   "outputs": [],
   "source": [
    "import numpy as np\n",
    "ar1 = np.random.randint(1,21,size=(5,5))\n",
    "\n",
    "\n",
    "mean = np.mean(ar1)\n",
    "median = np.median(ar1)\n",
    "standard_deviation = np.std(ar1)\n",
    "variance = np.var(ar1)\n",
    "\n",
    "\n",
    "print('Mean',mean)\n",
    "print('Median',median)\n",
    "print('Std Dev',standard_deviation)\n",
    "print('Variance',variance)"
   ]
  },
  {
   "cell_type": "markdown",
   "id": "771744e9",
   "metadata": {},
   "source": [
    "2. Create a NumPy array of shape (3, 3) with values from 1 to 9. Normalize the array (i.e., scale the values to have a mean of 0 and a standard deviation of 1)."
   ]
  },
  {
   "cell_type": "code",
   "execution_count": null,
   "id": "ef3617ad",
   "metadata": {},
   "outputs": [],
   "source": [
    "import numpy as np\n",
    "\n",
    "ar1 = np.arange(1,10).reshape(3,3)\n",
    "\n",
    "print(ar1)\n",
    "\n",
    "mean = np.mean(ar1)\n",
    "std_dev = np.std(ar1)\n",
    "normalized_array = (ar1-mean)/std_dev   # nomalized array formula\n",
    "\n",
    "\n",
    "print(normalized_array)"
   ]
  },
  {
   "cell_type": "markdown",
   "id": "9fa42d1c",
   "metadata": {},
   "source": [
    "### Assignment 5: Broadcasting\n",
    "\n",
    "1. Create a NumPy array of shape (3, 3) filled with random integers. Add a 1D array of shape (3,) to each row of the 2D array using broadcasting."
   ]
  },
  {
   "cell_type": "code",
   "execution_count": null,
   "id": "f16a2153",
   "metadata": {},
   "outputs": [],
   "source": [
    "ar1 = np.random.randint(1,22,size=(3,3))\n",
    "print(ar1)\n",
    "\n",
    "ar2 = np.random.randint(1,12,size=(3,))\n",
    "\n",
    "print(ar2)\n",
    "\n",
    "add = ar1 + ar2\n",
    "\n",
    "print(add)"
   ]
  },
  {
   "cell_type": "markdown",
   "id": "10dd790e",
   "metadata": {},
   "source": [
    "2. Create a NumPy array of shape (4, 4) filled with random integers. Subtract a 1D array of shape (4,) from each column of the 2D array using broadcasting."
   ]
  },
  {
   "cell_type": "code",
   "execution_count": null,
   "id": "6558987c",
   "metadata": {},
   "outputs": [],
   "source": [
    "ar1 = np.random.randint(1,21,size=(4,4))\n",
    "ar2 = np.random.randint(1,21,size=(4,))\n",
    "\n",
    "subs = ar2-ar1\n",
    "print(subs)\n"
   ]
  },
  {
   "cell_type": "markdown",
   "id": "8c2740ae",
   "metadata": {},
   "source": [
    "### Assignment 6: Linear Algebra\n",
    "\n",
    "1. Create a NumPy array of shape (3, 3) representing a matrix. Compute its determinant, inverse, and eigenvalues."
   ]
  },
  {
   "cell_type": "code",
   "execution_count": null,
   "id": "105c807a",
   "metadata": {},
   "outputs": [],
   "source": [
    "ar1 = np.random.randint(1,22,size=(3,3))\n",
    "\n",
    "print(ar1)\n",
    "\n",
    "determinent = np.linalg.det(ar1)\n",
    "print(determinent)\n",
    "\n",
    "inverse = np.linalg.inv(ar1)\n",
    "print(inverse)\n",
    "\n",
    "eigenvalues = np.linalg.eig(ar1)\n",
    "print(eigenvalues)"
   ]
  },
  {
   "cell_type": "markdown",
   "id": "b535487a",
   "metadata": {},
   "source": [
    "2. Create two NumPy arrays of shape (2, 3) and (3, 2). Perform matrix multiplication on these arrays."
   ]
  },
  {
   "cell_type": "code",
   "execution_count": null,
   "id": "2b450796",
   "metadata": {},
   "outputs": [],
   "source": [
    "arr1 = np.random.randint(1,10,size=(2,3))\n",
    "arr2 = np.random.randint(1,10,size=(3,2))\n",
    "\n",
    "multiply = np.dot(arr1,arr2)\n",
    "\n",
    "print(multiply)"
   ]
  },
  {
   "cell_type": "markdown",
   "id": "f65762f3",
   "metadata": {},
   "source": [
    "### Assignment 7: Advanced Array Manipulation\n",
    "\n",
    "1. Create a NumPy array of shape (3, 3) with values from 1 to 9. Reshape the array to shape (1, 9) and then to shape (9, 1)."
   ]
  },
  {
   "cell_type": "code",
   "execution_count": null,
   "id": "413a834d",
   "metadata": {},
   "outputs": [],
   "source": [
    "arr1 = np.arange(1,10).reshape(3,3)\n",
    "\n",
    "arr2 = arr1.reshape(1,9)\n",
    "\n",
    "arr3= arr2.reshape(9,1)\n",
    "\n",
    "\n",
    "print(arr1)\n",
    "print(arr2)\n",
    "print(arr3)"
   ]
  },
  {
   "cell_type": "markdown",
   "id": "ffa796cc",
   "metadata": {},
   "source": [
    "2. Create a NumPy array of shape (5, 5) filled with random integers. Flatten the array and then reshape it back to (5, 5)."
   ]
  },
  {
   "cell_type": "code",
   "execution_count": null,
   "id": "d20b5622",
   "metadata": {},
   "outputs": [],
   "source": [
    "arr1 = np.random.randint(1,20,size=(5,5))\n",
    "print(arr1)\n",
    "\n",
    "flatten_array = arr1.flatten()\n",
    "print(flatten_array)\n",
    "\n",
    "arr2 = flatten_array.reshape(5,5)\n",
    "print(arr2)"
   ]
  },
  {
   "cell_type": "markdown",
   "id": "715536e0",
   "metadata": {},
   "source": [
    "### Assignment 8: Fancy Indexing and Boolean Indexing\n",
    "\n",
    "1. Create a NumPy array of shape (5, 5) filled with random integers. Use fancy indexing to extract the elements at the corners of the array."
   ]
  },
  {
   "cell_type": "code",
   "execution_count": null,
   "id": "d7091b50",
   "metadata": {},
   "outputs": [],
   "source": [
    "arr1 = np.random.randint(1,21,size=(5,5))\n",
    "print(arr1)\n",
    "\n",
    "corners = arr1[[0,0,-1,-1],[0,-1,0,-1]]\n",
    "print(corners)"
   ]
  },
  {
   "cell_type": "markdown",
   "id": "24e2ccf9",
   "metadata": {},
   "source": [
    "2. Create a NumPy array of shape (4, 4) filled with random integers. Use boolean indexing to set all elements greater than 10 to 10."
   ]
  },
  {
   "cell_type": "code",
   "execution_count": null,
   "id": "2664ba05",
   "metadata": {},
   "outputs": [],
   "source": [
    "arr1 = np.random.randint(1,20,size=(4,4))\n",
    "print(arr1)\n",
    "\n",
    "arr1[arr1 > 10] = 10\n",
    "print(\"Modified array:\")\n",
    "print(arr1)"
   ]
  },
  {
   "cell_type": "markdown",
   "id": "bf56c2a1",
   "metadata": {},
   "source": [
    "### Assignment 9: Structured Arrays\n",
    "\n",
    "1. Create a structured array with fields 'name' (string), 'age' (integer), and 'weight' (float). Add some data and sort the array by age."
   ]
  },
  {
   "cell_type": "code",
   "execution_count": null,
   "id": "28952c81",
   "metadata": {},
   "outputs": [],
   "source": [
    "data_type = [('name','U10'),('age','i4'),('weight','f4')]\n",
    "\n",
    "arr = np.array([('Alice',32,67.2),('Price',46,44.4),('Apoorv',28,55.2)],dtype=data_type)\n",
    "print(arr)\n",
    "\n",
    "\n",
    "## sorted\n",
    "\n",
    "sorted_data = np.sort(arr,order='age')\n",
    "\n",
    "print(sorted_data)"
   ]
  },
  {
   "cell_type": "markdown",
   "id": "91a99ae1",
   "metadata": {},
   "source": [
    "2. Create a structured array with fields 'x' and 'y' (both integers). Add some data and compute the Euclidean distance between each pair of points."
   ]
  },
  {
   "cell_type": "code",
   "execution_count": null,
   "id": "e925d14c",
   "metadata": {},
   "outputs": [],
   "source": [
    "data_type = [('x','i4'),('y','i4')]\n",
    "\n",
    "data = np.array([(2,4),(4,5),(7,8)],dtype=data_type)\n",
    "\n",
    "print(data)\n",
    "\n",
    "# euclidien distance "
   ]
  },
  {
   "cell_type": "markdown",
   "id": "c4ac6886",
   "metadata": {},
   "source": [
    "### Assignment 10: Masked Arrays\n",
    "\n",
    "1. Create a masked array of shape (4, 4) with random integers and mask the elements greater than 10. Compute the sum of the unmasked elements."
   ]
  },
  {
   "cell_type": "code",
   "execution_count": null,
   "id": "6f7af58f",
   "metadata": {},
   "outputs": [],
   "source": [
    "import numpy.ma as ma\n",
    "arr1 = np.random.randint(1,20,size=(4,4))\n",
    "\n",
    "print(arr1)\n",
    "\n",
    "masked_array = ma.masked_greater(arr1,10)\n",
    "print(masked_array)\n",
    "\n",
    "sum_masked = masked_array.sum()\n",
    "\n",
    "print(sum_masked)"
   ]
  },
  {
   "cell_type": "markdown",
   "id": "13be36db",
   "metadata": {},
   "source": [
    "2. Create a masked array of shape (3, 3) with random integers and mask the diagonal elements. Replace the masked elements with the mean of the unmasked elements."
   ]
  },
  {
   "cell_type": "code",
   "execution_count": 123,
   "id": "987bdef9",
   "metadata": {},
   "outputs": [
    {
     "name": "stdout",
     "output_type": "stream",
     "text": [
      "Original array:\n",
      "[[20  8  2]\n",
      " [18 19  4]\n",
      " [15 13 16]]\n",
      "Masked array:\n",
      "[[-- 8 2]\n",
      " [18 -- 4]\n",
      " [15 13 --]]\n",
      "[[11 14  3]\n",
      " [ 6 11  7]\n",
      " [19 20 11]]\n"
     ]
    }
   ],
   "source": [
    "# Create a masked array of shape (3, 3) with random integers\n",
    "arr = np.random.randint(1, 21, size=(3, 3))\n",
    "masked = ma.masked_array(arr, mask=np.eye(3, dtype=bool))\n",
    "print(\"Original array:\")\n",
    "print(arr)\n",
    "print(\"Masked array:\")\n",
    "print(masked)\n",
    "\n",
    "# Replace the masked elements with the mean of the unmasked elements\n",
    "\n",
    "# Compute the mean of the unmasked elements\n",
    "mean_unmasked = masked_array.mean()\n",
    "\n",
    "# Replace masked values with the mean\n",
    "filled_array = masked_array.filled(mean_unmasked)\n",
    "\n",
    "print(filled_array)\n"
   ]
  },
  {
   "cell_type": "markdown",
   "id": "f821baf8",
   "metadata": {},
   "source": []
  },
  {
   "cell_type": "code",
   "execution_count": null,
   "id": "f6997c24",
   "metadata": {},
   "outputs": [],
   "source": []
  }
 ],
 "metadata": {
  "kernelspec": {
   "display_name": "Python 3",
   "language": "python",
   "name": "python3"
  },
  "language_info": {
   "codemirror_mode": {
    "name": "ipython",
    "version": 3
   },
   "file_extension": ".py",
   "mimetype": "text/x-python",
   "name": "python",
   "nbconvert_exporter": "python",
   "pygments_lexer": "ipython3",
   "version": "3.13.0"
  }
 },
 "nbformat": 4,
 "nbformat_minor": 5
}
