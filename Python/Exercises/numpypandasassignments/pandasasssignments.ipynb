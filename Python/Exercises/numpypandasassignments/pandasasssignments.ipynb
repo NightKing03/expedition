{
 "cells": [
  {
   "cell_type": "markdown",
   "metadata": {},
   "source": [
    "# Module: Pandas Assignments\n",
    "## Lesson: Pandas\n"
   ]
  },
  {
   "cell_type": "markdown",
   "id": "82d70025",
   "metadata": {},
   "source": [
    "### Assignment 1: DataFrame Creation and Indexing\n",
    "\n",
    "1. Create a Pandas DataFrame with 4 columns and 6 rows filled with random integers. Set the index to be the first column."
   ]
  },
  {
   "cell_type": "code",
   "execution_count": null,
   "metadata": {},
   "outputs": [],
   "source": [
    "import pandas as pd\n",
    "import numpy as np\n",
    "\n",
    "df = pd.DataFrame(np.random.randint(1,100,size=(6,4)),columns = ['A','B','C','D'])\n",
    "print(df)\n",
    "\n",
    "df.set_index('A', inplace=True)\n",
    "print(\"DataFrame with new index:\")\n",
    "print(df)\n"
   ]
  },
  {
   "cell_type": "markdown",
   "id": "c336d504",
   "metadata": {},
   "source": [
    "2. Create a Pandas DataFrame with columns 'A', 'B', 'C' and index 'X', 'Y', 'Z'. Fill the DataFrame with random integers and access the element at row 'Y' and column 'B'."
   ]
  },
  {
   "cell_type": "code",
   "execution_count": null,
   "id": "e06252d4",
   "metadata": {},
   "outputs": [],
   "source": [
    "df = pd.DataFrame(np.random.randint(1,100,size=(3,3)),columns = ['A','B','C'],index= ['X','Y','Z'])\n",
    "print(df)\n",
    "\n",
    "\n",
    "element = df.at['Y','B']        # 1st is index then column\n",
    "e2 = df.at['Z','A']\n",
    "\n",
    "print(element)\n",
    "print(e2)"
   ]
  },
  {
   "cell_type": "markdown",
   "id": "32d58c41",
   "metadata": {},
   "source": [
    "### Assignment 2: DataFrame Operations\n",
    "\n",
    "1. Create a Pandas DataFrame with 3 columns and 5 rows filled with random integers. Add a new column that is the product of the first two columns."
   ]
  },
  {
   "cell_type": "code",
   "execution_count": null,
   "id": "d04969ed",
   "metadata": {},
   "outputs": [],
   "source": [
    "df = pd.DataFrame(np.random.randint(1,100,size=(5,3)),columns= ['A','B','C'])\n",
    "print(df)\n",
    "\n",
    "df['D'] = df['A'] * df['B']    # adding a new colomn which is a product of the A and B\n",
    "print(df)\n"
   ]
  },
  {
   "cell_type": "markdown",
   "id": "7a79e035",
   "metadata": {},
   "source": [
    "2. Create a Pandas DataFrame with 3 columns and 4 rows filled with random integers. Compute the row-wise and column-wise sum."
   ]
  },
  {
   "cell_type": "code",
   "execution_count": null,
   "id": "af2db65c",
   "metadata": {},
   "outputs": [],
   "source": [
    "df = pd.DataFrame(np.random.randint(1,100,size=(4,3)))\n",
    "\n",
    "df\n",
    "\n",
    "\n",
    "row_sum = df.sum(axis=1)\n",
    "colomn_wise = df.sum(axis=0)\n",
    "\n",
    "print(row_sum)\n",
    "\n",
    "print(colomn_wise)"
   ]
  },
  {
   "cell_type": "markdown",
   "id": "9b5bdd6a",
   "metadata": {},
   "source": [
    "### Assignment 3: Data Cleaning\n",
    "\n",
    "1. Create a Pandas DataFrame with 3 columns and 5 rows filled with random integers. Introduce some NaN values. Fill the NaN values with the mean of the respective columns."
   ]
  },
  {
   "cell_type": "code",
   "execution_count": null,
   "id": "75d37ba7",
   "metadata": {},
   "outputs": [],
   "source": [
    "df = pd.DataFrame(np.random.randint(1,100,size=(5,3)))\n",
    "\n",
    "df.iloc[1,2] = np.nan\n",
    "df.iloc[3,1] = np.nan\n",
    "df.iloc[2,2] = np.nan\n",
    "\n",
    "filled = df.fillna(df.mean())       # use inplace=True to make changes in the original array\n",
    "\n",
    "print(df)\n",
    "print(filled)\n"
   ]
  },
  {
   "cell_type": "markdown",
   "id": "ccc72486",
   "metadata": {},
   "source": [
    "2. Create a Pandas DataFrame with 4 columns and 6 rows filled with random integers. Introduce some NaN values. Drop the rows with any NaN values."
   ]
  },
  {
   "cell_type": "code",
   "execution_count": null,
   "id": "d3e3beda",
   "metadata": {},
   "outputs": [],
   "source": [
    "# Data Frame\n",
    "df = pd.DataFrame(np.random.randint(1,100,size=(6,4)))\n",
    "df\n",
    "\n",
    "# adding Nan Values\n",
    "df.iloc[2,3] = np.nan\n",
    "df.iloc[0,2] = np.nan\n",
    "df.iloc[1,1] = np.nan\n",
    "df.iloc[3,1] = np.nan\n",
    "\n",
    "print(df)\n",
    "\n",
    "# dropping Nan rows\n",
    "dropped = df.dropna()\n",
    "\n",
    "print(dropped)"
   ]
  },
  {
   "cell_type": "markdown",
   "id": "8d64ef72",
   "metadata": {},
   "source": [
    "### Assignment 4: Data Aggregation\n",
    "\n",
    "1. Create a Pandas DataFrame with 2 columns: 'Category' and 'Value'. Fill the 'Category' column with random categories ('A', 'B', 'C') and the 'Value' column with random integers. Group the DataFrame by 'Category' and compute the sum and mean of 'Value' for each category."
   ]
  },
  {
   "cell_type": "code",
   "execution_count": null,
   "id": "7e63aee3",
   "metadata": {},
   "outputs": [],
   "source": [
    "import pandas as pd\n",
    "import numpy as np\n",
    "\n",
    "df = pd.DataFrame({'Category':np.random.choice(['A','B','C'],size=10),'Values':np.random.randint(1,100,size=10)})\n",
    "\n",
    "df\n",
    "\n",
    "# group by\n",
    "\n",
    "grouped = df.groupby('Category')['Values'].agg(['sum','mean','max','min'])\n",
    "print(grouped)"
   ]
  },
  {
   "cell_type": "markdown",
   "id": "6d034af7",
   "metadata": {},
   "source": [
    "2. Create a Pandas DataFrame with 3 columns: 'Product', 'Category', and 'Sales'. Fill the DataFrame with random data. Group the DataFrame by 'Category' and compute the total sales for each category."
   ]
  },
  {
   "cell_type": "code",
   "execution_count": null,
   "id": "e26d7f6e",
   "metadata": {},
   "outputs": [],
   "source": [
    "import pandas as pd\n",
    "import numpy as np\n",
    "\n",
    "df = pd.DataFrame({'Product': np.random.choice(['Phone','Car','Shoes'],size=10),'Category':np.random.choice(['Transport','Gadget','Footwear'],size=10),'Sales':np.random.randint(1,100,size=10)})\n",
    "\n",
    "df\n",
    "\n",
    "grouped = df.groupby('Category')['Sales'].agg(['sum','mean','max','min'])\n",
    "print(grouped)"
   ]
  },
  {
   "cell_type": "markdown",
   "id": "4aa2aeae",
   "metadata": {},
   "source": [
    "### Assignment 5: Merging DataFrames\n",
    "\n",
    "1. Create two Pandas DataFrames with a common column. Merge the DataFrames using the common column."
   ]
  },
  {
   "cell_type": "code",
   "execution_count": null,
   "id": "22f2855f",
   "metadata": {},
   "outputs": [],
   "source": [
    "df1 = pd.DataFrame({'Item_No':np.random.randint(1,100,size=10),'Category':np.random.choice(['Prod1','Prod2','Prod3'],size=10)})\n",
    "\n",
    "df2 = pd.DataFrame({'Item_No':np.random.randint(1,100,size=10),'Sales':np.random.randint(10,200,size=10)})\n",
    "\n",
    "merged = pd.merge(df1,df1,on='Item_No')\n",
    "\n",
    "print(merged)"
   ]
  },
  {
   "cell_type": "code",
   "execution_count": null,
   "id": "e4979a8e",
   "metadata": {},
   "outputs": [],
   "source": [
    "# Create two Pandas DataFrames with a common column\n",
    "df1 = pd.DataFrame({'Key': ['A', 'B', 'C', 'D'], 'Value1': np.random.randint(1, 100, size=4)})\n",
    "df2 = pd.DataFrame({'Key': ['A', 'B', 'C', 'E'], 'Value2': np.random.randint(1, 100, size=4)})\n",
    "print(\"DataFrame 1:\")\n",
    "print(df1)\n",
    "print(\"DataFrame 2:\")\n",
    "print(df2)\n",
    "\n",
    "# Merge the DataFrames using the common column\n",
    "merged = pd.merge(df1, df2, on='Key')\n",
    "print(\"Merged DataFrame:\")\n",
    "print(merged)\n"
   ]
  },
  {
   "cell_type": "markdown",
   "id": "72fe718e",
   "metadata": {},
   "source": [
    "2. Create two Pandas DataFrames with different columns. Concatenate the DataFrames along the rows and along the columns."
   ]
  },
  {
   "cell_type": "code",
   "execution_count": null,
   "id": "2fd3470e",
   "metadata": {},
   "outputs": [],
   "source": [
    "df1 = pd.DataFrame({'A':np.random.randint(1,100,size=5),'B':np.random.choice(['Prod1','Prod2','Prod3'],size=5)})\n",
    "\n",
    "print('DataFrame1:\\n', df1)\n",
    "\n",
    "df2 = pd.DataFrame({'C':np.random.randint(1,100,size=5),'D':np.random.choice(['Prod4','Prod5','Prod6'],size=5)})\n",
    "print('DataFrame2:\\n',df2)\n",
    "\n",
    "concat_rows = pd.concat([df1,df2],axis=0)\n",
    "\n",
    "concat2_colo = pd.concat([df1,df2],axis=1)\n",
    "\n",
    "print(\"Rows\\n\",concat_rows)\n",
    "print('Colomn\\n',concat2_colo)\n",
    "\n"
   ]
  },
  {
   "cell_type": "markdown",
   "id": "105aab5b",
   "metadata": {},
   "source": [
    "### Assignment 6: Time Series Analysis\n",
    "\n",
    "1. Create a Pandas DataFrame with a datetime index and one column filled with random integers. Resample the DataFrame to compute the monthly mean of the values."
   ]
  },
  {
   "cell_type": "code",
   "execution_count": null,
   "id": "0db30f07",
   "metadata": {},
   "outputs": [],
   "source": [
    "date_rng = pd.date_range('2024-01-01','2025-01-01',freq='D')\n",
    "\n",
    "df = pd.DataFrame(date_rng,columns=['date'])\n",
    "\n",
    "df['data'] = np.random.randint(1,100,size=len(date_rng))\n",
    "df.set_index('date',inplace=True)\n",
    "\n",
    "df\n",
    "\n",
    "monthly_mean = df.resample('M').mean()\n",
    "print(monthly_mean)"
   ]
  },
  {
   "cell_type": "markdown",
   "id": "b8e8aa44",
   "metadata": {},
   "source": [
    "2. Create a Pandas DataFrame with a datetime index ranging from '2021-01-01' to '2021-12-31' and one column filled with random integers. Compute the rolling mean with a window of 7 days."
   ]
  },
  {
   "cell_type": "code",
   "execution_count": null,
   "id": "22e19954",
   "metadata": {},
   "outputs": [],
   "source": [
    "date_rng = pd.date_range('2021-01-01','2021-12-31',freq='D')\n",
    "\n",
    "df = pd.DataFrame(date_rng,columns=['date'])\n",
    "\n",
    "df['data'] = np.random.randint(1,100,size=len(date_rng))\n",
    "df.set_index('date',inplace=True)\n",
    "\n",
    "\n",
    "rolling_mean = df.rolling(window=7).mean()\n",
    "\n",
    "print(rolling_mean)"
   ]
  },
  {
   "cell_type": "markdown",
   "id": "ee305357",
   "metadata": {},
   "source": [
    "### Assignment 7: MultiIndex DataFrame\n",
    "\n",
    "1. Create a Pandas DataFrame with a MultiIndex (hierarchical index). Perform some basic indexing and slicing operations on the MultiIndex DataFrame."
   ]
  },
  {
   "cell_type": "code",
   "execution_count": null,
   "id": "fbebb6a8",
   "metadata": {},
   "outputs": [],
   "source": [
    "arr = [['A','B','C'],['one','two','three']]\n",
    "index = pd.MultiIndex.from_arrays(arr,names=('Category','Sub-Category'))\n",
    "\n",
    "df = pd.DataFrame(np.random.randint(1,100,size=(3,3)),index=index,columns=['Value1','Value2','Value3'])\n",
    "\n",
    "print(df)\n",
    "\n",
    "print(df.loc['A'])    # getting the element at A\n",
    "\n",
    "print(df.loc[('B','two')])  # "
   ]
  },
  {
   "cell_type": "markdown",
   "id": "bfd47709",
   "metadata": {},
   "source": [
    "2. Create a Pandas DataFrame with MultiIndex consisting of 'Category' and 'SubCategory'. Fill the DataFrame with random data and compute the sum of values for each 'Category' and 'SubCategory'."
   ]
  },
  {
   "cell_type": "code",
   "execution_count": null,
   "id": "6734e8de",
   "metadata": {},
   "outputs": [],
   "source": [
    "arr = [['A','B','C','D'],['one','two','three','four']]\n",
    "\n",
    "index = pd.MultiIndex.from_arrays(arr,names=('Category','SubCategory'))\n",
    "\n",
    "df = pd.DataFrame(np.random.randint(1,100,size =(4,4)),index=index,columns=['Value1','Value2','Value3','Value4'])\n",
    "\n",
    "print(df)\n",
    "\n",
    "sumed = df.groupby(['Category','SubCategory']).sum()\n",
    "\n",
    "print(sumed)\n"
   ]
  },
  {
   "cell_type": "markdown",
   "id": "ef9b53e1",
   "metadata": {},
   "source": [
    "### Assignment 8: Pivot Tables\n",
    "\n",
    "1. Create a Pandas DataFrame with columns 'Date', 'Category', and 'Value'. Create a pivot table to compute the sum of 'Value' for each 'Category' by 'Date'."
   ]
  },
  {
   "cell_type": "code",
   "execution_count": null,
   "id": "7dcfc78a",
   "metadata": {},
   "outputs": [],
   "source": [
    "date_rng = pd.date_range(start='2024-01-01',end='2025-01-01',freq='D')\n",
    "\n",
    "df = pd.DataFrame({'Date':np.random.choice(date_rng,size=20),'Category':np.random.choice(['A','B','C'],size=20),'Value': np.random.randint(30,100,size=20)})\n",
    "\n",
    "pivoted = df.pivot_table(values='Value',index='Date',columns='Category',aggfunc='sum')\n",
    "\n",
    "print(pivoted)"
   ]
  },
  {
   "cell_type": "markdown",
   "id": "23ed5fd8",
   "metadata": {},
   "source": [
    "\n",
    "2. Create a Pandas DataFrame with columns 'Year', 'Quarter', and 'Revenue'. Create a pivot table to compute the mean 'Revenue' for each 'Quarter' by 'Year'."
   ]
  },
  {
   "cell_type": "code",
   "execution_count": null,
   "id": "5e08a69e",
   "metadata": {},
   "outputs": [],
   "source": [
    "date_rng = pd.date_range(start='2024-01-01',end='2030-01-01',freq='Y')\n",
    "\n",
    "df = pd.DataFrame({'Year':np.random.choice(date_rng,size=20),'Quater':np.random.choice(['Q1','Q2','Q3','Q4'],size=20),'Revenue $':np.random.randint(1000,10000,size=20)})\n",
    "\n",
    "\n",
    "pivoted = df.pivot_table(values='Revenue $',index='Year',columns='Quater',aggfunc='mean')\n",
    "print(pivoted)"
   ]
  },
  {
   "cell_type": "markdown",
   "id": "0928d1af",
   "metadata": {},
   "source": [
    "### Assignment 9: Applying Functions\n",
    "\n",
    "1. Create a Pandas DataFrame with 3 columns and 5 rows filled with random integers. Apply a function that doubles the values of the DataFrame."
   ]
  },
  {
   "cell_type": "code",
   "execution_count": null,
   "id": "96433521",
   "metadata": {},
   "outputs": [],
   "source": [
    "df = pd.DataFrame(np.random.randint(1,100,size=(5,3)),columns=['A','B','C'])\n",
    "print(df)\n",
    "\n",
    "doubled = df.applymap(lambda x:x*2)\n",
    "print(doubled)\n"
   ]
  },
  {
   "cell_type": "markdown",
   "id": "c343e387",
   "metadata": {},
   "source": [
    "2. Create a Pandas DataFrame with 3 columns and 6 rows filled with random integers. Apply a lambda function to create a new column that is the sum of the existing columns."
   ]
  },
  {
   "cell_type": "code",
   "execution_count": null,
   "id": "8749e2d5",
   "metadata": {},
   "outputs": [],
   "source": [
    "df = pd.DataFrame(np.random.randint(1,100,size=(6,3)),columns=['A','B','C'])\n",
    "df\n",
    "\n",
    "df['Sum'] = df.apply(lambda row:row.sum(),axis=1)\n",
    "print(df)"
   ]
  },
  {
   "cell_type": "markdown",
   "metadata": {},
   "source": [
    "### Assignment 10: Working with Text Data\n",
    "\n",
    "1. Create a Pandas Series with 5 random text strings. Convert all the strings to uppercase."
   ]
  },
  {
   "cell_type": "code",
   "execution_count": null,
   "id": "d9edd211",
   "metadata": {},
   "outputs": [],
   "source": [
    "text = pd.Series(['apple','banana','cherry','guava'])\n",
    "\n",
    "text_upper = text.str.upper()\n",
    "\n",
    "print(text_upper)"
   ]
  },
  {
   "cell_type": "markdown",
   "id": "46fa585b",
   "metadata": {},
   "source": [
    "2. Create a Pandas Series with 5 random text strings. Extract the first three characters of each string."
   ]
  },
  {
   "cell_type": "code",
   "execution_count": null,
   "id": "e72ff9f6",
   "metadata": {},
   "outputs": [],
   "source": [
    "text = pd.Series(['Hey','Hello','Hola','Hiii','Yoooo'])\n",
    "text\n",
    "\n",
    "first_3 = text.str[0:3]\n",
    "\n",
    "print(first_3)"
   ]
  }
 ],
 "metadata": {
  "kernelspec": {
   "display_name": "Python 3",
   "language": "python",
   "name": "python3"
  },
  "language_info": {
   "codemirror_mode": {
    "name": "ipython",
    "version": 3
   },
   "file_extension": ".py",
   "mimetype": "text/x-python",
   "name": "python",
   "nbconvert_exporter": "python",
   "pygments_lexer": "ipython3",
   "version": "3.13.0"
  }
 },
 "nbformat": 4,
 "nbformat_minor": 5
}
