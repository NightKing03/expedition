{
 "cells": [
  {
   "cell_type": "markdown",
   "metadata": {},
   "source": [
    "# Module 3: Data Structures Assignments\n",
    "## Lesson 3.3: Sets\n",
    "\n",
    "\n",
    "\n"
   ]
  },
  {
   "cell_type": "markdown",
   "id": "8f6e9768",
   "metadata": {},
   "source": [
    "-----------------------------------------------------------------------------"
   ]
  },
  {
   "cell_type": "markdown",
   "id": "5b04c6cb",
   "metadata": {},
   "source": [
    "#### ANSWERS"
   ]
  },
  {
   "cell_type": "markdown",
   "id": "1114d620",
   "metadata": {},
   "source": [
    "# Module 3: Data Structures Assignments\n",
    "## 3.3: Sets"
   ]
  },
  {
   "cell_type": "markdown",
   "id": "2fb5085b",
   "metadata": {},
   "source": [
    "### Assignment 1: Creating and Accessing Sets\n",
    "\n",
    "Create a set with the first 10 positive integers. Print the set.\n"
   ]
  },
  {
   "cell_type": "code",
   "execution_count": null,
   "id": "fbf32837",
   "metadata": {},
   "outputs": [],
   "source": [
    "set1 = set(range(1,11))\n",
    "\n",
    "print(set1)"
   ]
  },
  {
   "cell_type": "markdown",
   "id": "67ddf7a5",
   "metadata": {},
   "source": [
    "### Assignment 2: Adding and Removing Elements\n",
    "\n",
    "Add the number 11 to the set created in Assignment 1. Then remove the number 1 from the set. Print the modified set."
   ]
  },
  {
   "cell_type": "code",
   "execution_count": null,
   "id": "86a2fc25",
   "metadata": {},
   "outputs": [],
   "source": [
    "set1.add(11)\n",
    "set1.remove(1)\n",
    "print(set1)"
   ]
  },
  {
   "cell_type": "markdown",
   "id": "cc66920f",
   "metadata": {},
   "source": [
    "### Assignment 3: Set Operations\n",
    "\n",
    "Create two sets: one with the first 5 positive integers and another with the first 5 even integers. Perform and print the results of union, intersection, difference, and symmetric difference operations on these sets.\n"
   ]
  },
  {
   "cell_type": "code",
   "execution_count": null,
   "id": "73d3485d",
   "metadata": {},
   "outputs": [],
   "source": [
    "set3 = set(range(1,5))\n",
    "\n",
    "set4 = set(range(2,11,2))\n",
    "\n",
    "\n",
    "print(set3 | set4)                          # OR print(se3.union(set4))\n",
    "print(set3.intersection(set4))              # use &\n",
    "print(set3.difference(set4))                # use - \n",
    "print(set3.symmetric_difference(set4))"
   ]
  },
  {
   "cell_type": "markdown",
   "id": "7800fcfa",
   "metadata": {},
   "source": [
    "### Assignment 4: Set Comprehensions\n",
    "\n",
    "Create a new set containing the squares of the first 10 positive integers using a set comprehension. Print the new set."
   ]
  },
  {
   "cell_type": "code",
   "execution_count": null,
   "id": "335e4f66",
   "metadata": {},
   "outputs": [],
   "source": [
    "set5 = set(range(1,11))\n",
    "squared_set = {item**2 for item in set5}      # OR squares = {x**2 for x in range(1, 11)}\n",
    "print(squared)"
   ]
  },
  {
   "cell_type": "markdown",
   "id": "320409ac",
   "metadata": {},
   "source": [
    "### Assignment 5: Filtering Sets\n",
    "\n",
    "Create a new set containing only the even numbers from the set created in Assignment 1 using a set comprehension. Print the new set.\n"
   ]
  },
  {
   "cell_type": "code",
   "execution_count": null,
   "id": "9ee7a71e",
   "metadata": {},
   "outputs": [],
   "source": [
    "even_set = {x for x in set1 if x%2 == 0}\n",
    "\n",
    "print(even_set)"
   ]
  },
  {
   "cell_type": "markdown",
   "id": "187f63e6",
   "metadata": {},
   "source": [
    "### Assignment 6: Set Methods\n",
    "\n",
    "Create a set with duplicate elements and remove the duplicates using set methods. Print the modified set."
   ]
  },
  {
   "cell_type": "code",
   "execution_count": null,
   "id": "a072bcda",
   "metadata": {},
   "outputs": [],
   "source": [
    "set7 = {1,1,1,2,3,3,2,2,1,2,4,5,6,7}\n",
    "modified_set = set(set7)\n",
    "print(modified_set)"
   ]
  },
  {
   "cell_type": "markdown",
   "id": "5cf837f5",
   "metadata": {},
   "source": [
    "### Assignment 7: Subsets and Supersets\n",
    "\n",
    "Create two sets: one with the first 5 positive integers and another with the first 3 positive integers. Check if the second set is a subset of the first set and if the first set is a superset of the second set. Print the results.\n"
   ]
  },
  {
   "cell_type": "code",
   "execution_count": null,
   "id": "06568dd5",
   "metadata": {},
   "outputs": [],
   "source": [
    "set_positive = {x for x in range(1,6)}\n",
    "\n",
    "set_even = {x for x in range(1,4)}\n",
    "\n",
    "print(set_positive.issubset(set_even))    # checks if elemets of B present in A\n",
    "print(set_positive.issuperset(set_even))  # checks if elements of A present in B"
   ]
  },
  {
   "cell_type": "markdown",
   "id": "d1569bfa",
   "metadata": {},
   "source": [
    "### Assignment 8: Frozenset\n",
    "\n",
    "Create a frozenset with the first 5 positive integers. Print the frozenset."
   ]
  },
  {
   "cell_type": "code",
   "execution_count": null,
   "id": "9560c82b",
   "metadata": {},
   "outputs": [],
   "source": [
    "fs = frozenset(range(1,10))\n",
    "\n",
    "print(fs)"
   ]
  },
  {
   "cell_type": "markdown",
   "id": "c1525e8d",
   "metadata": {},
   "source": [
    "### Assignment 9: Set and List Conversion\n",
    "\n",
    "Create a set with the first 5 positive integers. Convert it to a list, append the number 6, and convert it back to a set. Print the resulting set."
   ]
  },
  {
   "cell_type": "code",
   "execution_count": null,
   "id": "03dba0d7",
   "metadata": {},
   "outputs": [],
   "source": [
    "s = set(range(1,6))\n",
    "\n",
    "lst1 = list(s)\n",
    "\n",
    "lst1.append(6)\n",
    "\n",
    "s = set(lst1)\n",
    "\n",
    "print(s)"
   ]
  },
  {
   "cell_type": "markdown",
   "id": "87941783",
   "metadata": {},
   "source": [
    "### Assignment 10: Set and Dictionary\n",
    "\n",
    "Create a dictionary with set keys and integer values. Print the dictionary."
   ]
  },
  {
   "cell_type": "code",
   "execution_count": null,
   "id": "34c03ff8",
   "metadata": {},
   "outputs": [],
   "source": [
    "d = {\n",
    "    frozenset({1,2}):4,\n",
    "    frozenset({3,5}):7,\n",
    "    frozenset({4,2}):12\n",
    "\n",
    "}\n",
    "print(d)"
   ]
  },
  {
   "cell_type": "markdown",
   "id": "32e29741",
   "metadata": {},
   "source": [
    "\n",
    "### Assignment 11: Iterating Over Sets\n",
    "\n",
    "Create a set and iterate over the elements, printing each element."
   ]
  },
  {
   "cell_type": "code",
   "execution_count": null,
   "id": "163dc0d2",
   "metadata": {},
   "outputs": [],
   "source": [
    "for i in set3:\n",
    "    print(i)"
   ]
  },
  {
   "cell_type": "markdown",
   "id": "5bbdd658",
   "metadata": {},
   "source": [
    "\n",
    "### Assignment 12: Removing Elements from Sets\n",
    "\n",
    "Create a set and remove elements from it until it is empty. Print the set after each removal."
   ]
  },
  {
   "cell_type": "code",
   "execution_count": null,
   "id": "89912745",
   "metadata": {},
   "outputs": [],
   "source": [
    "s1 = set(range(1,10))\n",
    "\n",
    "while s1:\n",
    "    s1.pop()\n",
    "    print(s1)"
   ]
  },
  {
   "cell_type": "markdown",
   "id": "f660244b",
   "metadata": {},
   "source": [
    "\n",
    "\n",
    "### Assignment 13: Set Symmetric Difference Update\n",
    "\n",
    "Create two sets and update the first set with the symmetric difference of the two sets. Print the modified first set."
   ]
  },
  {
   "cell_type": "code",
   "execution_count": null,
   "id": "40733287",
   "metadata": {},
   "outputs": [],
   "source": [
    "s2 = set(range(1,10))\n",
    "s3 = set(range(2,12))\n",
    "\n",
    "s1.symmetric_difference(s3)\n",
    "\n",
    "print(s2)"
   ]
  },
  {
   "cell_type": "markdown",
   "id": "43094f1a",
   "metadata": {},
   "source": [
    "\n",
    "\n",
    "### Assignment 14: Set Membership Testing\n",
    "\n",
    "Create a set and test if certain elements are present in the set. Print the results."
   ]
  },
  {
   "cell_type": "code",
   "execution_count": 63,
   "id": "f352d52b",
   "metadata": {},
   "outputs": [
    {
     "name": "stdout",
     "output_type": "stream",
     "text": [
      "True\n",
      "False\n",
      "False\n"
     ]
    }
   ],
   "source": [
    "print(3 in set3)\n",
    "\n",
    "print(20 in set4)\n",
    "\n",
    "print(12 in s2)"
   ]
  },
  {
   "cell_type": "markdown",
   "id": "3b654350",
   "metadata": {},
   "source": [
    "### Assignment 15: Set of Tuples\n",
    "\n",
    "Create a set containing tuples, where each tuple contains two elements. Print the set."
   ]
  },
  {
   "cell_type": "code",
   "execution_count": 67,
   "id": "bf8622ba",
   "metadata": {},
   "outputs": [
    {
     "name": "stdout",
     "output_type": "stream",
     "text": [
      "{(1, 2), (3, 4), (5, 6)}\n"
     ]
    }
   ],
   "source": [
    "s = { (1, 2), (3, 4), (5, 6) }\n",
    "print(s)"
   ]
  }
 ],
 "metadata": {
  "kernelspec": {
   "display_name": "Python 3",
   "language": "python",
   "name": "python3"
  },
  "language_info": {
   "codemirror_mode": {
    "name": "ipython",
    "version": 3
   },
   "file_extension": ".py",
   "mimetype": "text/x-python",
   "name": "python",
   "nbconvert_exporter": "python",
   "pygments_lexer": "ipython3",
   "version": "3.13.0"
  }
 },
 "nbformat": 4,
 "nbformat_minor": 5
}
