{
 "cells": [
  {
   "cell_type": "markdown",
   "metadata": {},
   "source": [
    "# Module 3: Data Structures Assignments\n",
    "## Lesson 3.1: Lists\n"
   ]
  },
  {
   "cell_type": "markdown",
   "id": "19194515",
   "metadata": {},
   "source": [
    "-----------------------------------------------------------------------------------------------"
   ]
  },
  {
   "cell_type": "markdown",
   "id": "106822db",
   "metadata": {},
   "source": [
    "\n",
    "## Answers 3.1: Lists"
   ]
  },
  {
   "cell_type": "markdown",
   "id": "ae2e145a",
   "metadata": {},
   "source": [
    "### Assignment 1: Creating and Accessing Lists\n",
    "\n",
    "Create a list of the first 20 positive integers. Print the list.\n"
   ]
  },
  {
   "cell_type": "code",
   "execution_count": null,
   "id": "77d729da",
   "metadata": {},
   "outputs": [],
   "source": [
    "lst = list(range(1,21))\n",
    "print(lst)"
   ]
  },
  {
   "cell_type": "markdown",
   "id": "f04d1eab",
   "metadata": {},
   "source": [
    "### Assignment 2: Accessing List Elements\n",
    "\n",
    "Print the first, middle, and last elements of the list created in Assignment 1.\n"
   ]
  },
  {
   "cell_type": "code",
   "execution_count": null,
   "id": "c0610f33",
   "metadata": {},
   "outputs": [],
   "source": [
    "print(f'the first element of the list is {lst[0]}')  # need to specify both list and index\n",
    "print(f'The middle element of the list is {lst[len(lst)//2]}')\n",
    "print(f'The last element of the list is {lst[-1]}')"
   ]
  },
  {
   "cell_type": "markdown",
   "id": "16fbe586",
   "metadata": {},
   "source": [
    "### Assignment 3: List Slicing\n",
    "\n",
    "Print the first five elements, the last five elements, and the elements from index 5 to 15 of the list created in Assignment 1."
   ]
  },
  {
   "cell_type": "code",
   "execution_count": null,
   "id": "50ce2615",
   "metadata": {},
   "outputs": [],
   "source": [
    "print(f'First five elements of the list are {lst[:6]}')\n",
    "print(f'The last five elements of the list are {lst[-5:]}')\n",
    "print(f'The elements from index 5 to 15 are {lst[4:15]}')"
   ]
  },
  {
   "cell_type": "markdown",
   "id": "5ca0474b",
   "metadata": {},
   "source": [
    "### Assignment 4: List Comprehensions\n",
    "\n",
    "Create a new list containing the squares of the first 10 positive integers using a list comprehension. Print the new list."
   ]
  },
  {
   "cell_type": "code",
   "execution_count": null,
   "id": "1ed2d22d",
   "metadata": {},
   "outputs": [],
   "source": [
    "square = [x**2 for x in range(1,11)]\n",
    "print(square)"
   ]
  },
  {
   "cell_type": "markdown",
   "id": "363085e7",
   "metadata": {},
   "source": [
    "### Assignment 5: Filtering Lists\n",
    "\n",
    "Create a new list containing only the even numbers from the list created in Assignment 1 using a list comprehension. Print the new list."
   ]
  },
  {
   "cell_type": "code",
   "execution_count": null,
   "id": "01753713",
   "metadata": {},
   "outputs": [],
   "source": [
    "lst = [x for x in lst if x%2==0]\n",
    "print(lst)"
   ]
  },
  {
   "cell_type": "markdown",
   "id": "05143af4",
   "metadata": {},
   "source": [
    "### Assignment 6: List Methods\n",
    "\n",
    "Create a list of random numbers and sort it in ascending and descending order. Remove the duplicates from the list and print the modified list."
   ]
  },
  {
   "cell_type": "code",
   "execution_count": null,
   "id": "d8a45e77",
   "metadata": {},
   "outputs": [],
   "source": [
    "import random\n",
    "\n",
    "random_num = [random.randint(1,20) for i in range(15)]\n",
    "\n",
    "print(f'Original List: {random_num}')\n",
    "\n",
    "sorted_list = sorted(random_num)\n",
    "\n",
    "print(f'Sorted list: {sorted_list}')\n",
    "\n",
    "reverse_sort = sorted(random_num,reverse=True)\n",
    "print(f'Reverse Sorted list: {reverse_sort}')\n",
    "\n",
    "unique_num = list(set(random_num))\n",
    "\n",
    "print(f'List without duplicates: {unique_num}')\n"
   ]
  },
  {
   "cell_type": "markdown",
   "id": "e240f68b",
   "metadata": {},
   "source": [
    "### Assignment 7: Nested Lists\n",
    "\n",
    "Create a nested list representing a 3x3 matrix and print the matrix. Access and print the element at the second row and third column."
   ]
  },
  {
   "cell_type": "code",
   "execution_count": null,
   "id": "2fd06e46",
   "metadata": {},
   "outputs": [],
   "source": [
    "# Define a 3x3 matrix (list of lists)\n",
    "matrix = [\n",
    "    [1, 2, 3],   # First row\n",
    "    [4, 5, 6],   # Second row\n",
    "    [7, 8, 9]    # Third row\n",
    "]\n",
    "\n",
    "# Print a title for clarity\n",
    "print(\"Matrix:\")\n",
    "\n",
    "# Loop through each row in the matrix and print it\n",
    "for row in matrix:\n",
    "    print(row)  # Prints each row of the matrix\n",
    "\n",
    "# Access and print a specific element (Second row, Third column)\n",
    "print(f'Element in the second row and third column is {matrix[1][2]}')"
   ]
  },
  {
   "cell_type": "markdown",
   "id": "9ef31bac",
   "metadata": {},
   "source": [
    "### Assignment 8: List of Dictionaries\n",
    "\n",
    "Create a list of dictionaries where each dictionary represents a student with keys 'name' and 'score'. Sort the list of dictionaries by the 'score' in descending order and print the sorted list.\n"
   ]
  },
  {
   "cell_type": "code",
   "execution_count": null,
   "id": "5b8372c4",
   "metadata": {},
   "outputs": [],
   "source": [
    "students = [\n",
    "    {'name': 'Alice', 'score': 88},    ## name and score = key and alice and 88 are values\n",
    "    {'name': 'Bob', 'score': 72},\n",
    "    {'name': 'Charlie', 'score': 95},\n",
    "    {'name': 'David', 'score': 65},\n",
    "    {'name': 'Eve', 'score': 78}\n",
    "]\n",
    "\n",
    "sorted_dict = sorted(students, key=lambda x: x['score'],reverse=True)\n",
    "for students in sorted_dict:\n",
    "    print(students)"
   ]
  },
  {
   "cell_type": "markdown",
   "id": "ac78b54f",
   "metadata": {},
   "source": [
    "### Assignment 9: Matrix Transposition\n",
    "\n",
    "Write a function that takes a 3x3 matrix (nested list) as input and returns its transpose. Print the original and transposed matrices."
   ]
  },
  {
   "cell_type": "code",
   "execution_count": null,
   "id": "d05b7e94",
   "metadata": {},
   "outputs": [],
   "source": [
    "\n",
    "matrix = [\n",
    "    [1, 2, 3],\n",
    "    [4, 5, 6],\n",
    "    [7, 8, 9]\n",
    "]\n",
    "\n",
    "def transposed_matrix(matrix):\n",
    "    transposed = [[matrix [j] [i] for j in range(len(matrix))]for i in range(len(matrix[0]))]  ## j represents the rows and i represents th colomn, indexing require for to work with rectanglular matrixes\n",
    "    return transposed\n",
    "transposed = transposed_matrix(matrix)\n",
    "print('Original Matrix:')\n",
    "for row in matrix:\n",
    "    print(row)\n",
    "print('Transposed Matrix')\n",
    "for row in transposed:\n",
    "    print(row)"
   ]
  },
  {
   "cell_type": "markdown",
   "id": "6cde68cb",
   "metadata": {},
   "source": [
    "### Assignment 10: Flattening a Nested List\n",
    "\n",
    "Write a function that takes a nested list and flattens it into a single list. Print the original and flattened lists."
   ]
  },
  {
   "cell_type": "code",
   "execution_count": null,
   "id": "707dcb8f",
   "metadata": {},
   "outputs": [],
   "source": [
    "def flatten_list():\n",
    "    flat_list = [item for sublist in nested_list for item in sublist]\n",
    "    return flat_list\n",
    "\n",
    "nested_list = [\n",
    "    [1, 2, 3],\n",
    "    [4, 5, 6],\n",
    "    [7, 8, 9]\n",
    "]\n",
    "\n",
    "flatten_list = flatten_list()\n",
    "print('Original Nested list')\n",
    "print(nested_list)\n",
    "print('Flatten List')\n",
    "print(flatten_list)\n"
   ]
  },
  {
   "cell_type": "markdown",
   "id": "f745ada6",
   "metadata": {},
   "source": [
    "### Assignment 11: List Manipulation\n",
    "\n",
    "Create a list of the first 10 positive integers. Remove the elements at indices 2, 4, and 6, and insert the element '99' at index 5. Print the modified list.\n"
   ]
  },
  {
   "cell_type": "code",
   "execution_count": null,
   "id": "20fbef4f",
   "metadata": {},
   "outputs": [],
   "source": [
    "lst = list(range(1,11)) \n",
    "\n",
    "del lst[2] # remove the mentioned indices\n",
    "del lst[4]\n",
    "del lst[6]\n",
    "\n",
    "lst.insert(5,99)  # insert the element at the mentioned index (index 5)\n",
    "print(lst)\n",
    "\n"
   ]
  },
  {
   "cell_type": "markdown",
   "id": "685e8fba",
   "metadata": {},
   "source": [
    "### Assignment 12: List Zipping\n",
    "\n",
    "Create two lists of the same length. Use the `zip` function to combine these lists into a list of tuples and print the result."
   ]
  },
  {
   "cell_type": "code",
   "execution_count": null,
   "id": "be8b8791",
   "metadata": {},
   "outputs": [],
   "source": [
    "lst1 = list(range(1,10))\n",
    "lst2 = list(range(10,20))\n",
    "\n",
    "zipped = zip(lst1,lst2) # cretes a tuple for each element from both lists\n",
    "\n",
    "print(list(zipped)) # converts the zipped object to a list\n"
   ]
  },
  {
   "cell_type": "markdown",
   "id": "1893c735",
   "metadata": {},
   "source": [
    "### Assignment 13: List Reversal\n",
    "\n",
    "Write a function that takes a list and returns a new list with the elements in reverse order. Print the original and reversed lists."
   ]
  },
  {
   "cell_type": "code",
   "execution_count": null,
   "id": "7f405414",
   "metadata": {},
   "outputs": [],
   "source": [
    "def list_reversal():\n",
    "    lst1 = list(range(1,10))\n",
    "    reversed_lst = lst1[::-1]\n",
    "    print('Original List')\n",
    "    print(lst1)\n",
    "    print('Reversed List')\n",
    "    print(reversed_lst)\n",
    "list_reversal()"
   ]
  },
  {
   "cell_type": "markdown",
   "id": "6c4fa1f3",
   "metadata": {},
   "source": [
    "### Assignment 14: List Rotation\n",
    "\n",
    "Write a function that rotates a list by n positions. Print the original and rotated lists.\n"
   ]
  },
  {
   "cell_type": "code",
   "execution_count": null,
   "id": "a3a6979e",
   "metadata": {},
   "outputs": [],
   "source": [
    "def rotate_list(lst, n): # function to rotate the list by n positions\n",
    "    return lst[n:] + lst[:n] # rotates the list by n positions and concatenates the first n elements with the last n elements\n",
    "\n",
    "lst = list(range(1,10)) # original list\n",
    "rotate_list = rotate_list(lst, 2) # rotated list by 2 positions\n",
    "print('Original List')\n",
    "\n",
    "print(lst)\n",
    "\n",
    "print('Rotated List by 2 positions')\n",
    "print(rotate_list)\n"
   ]
  },
  {
   "cell_type": "markdown",
   "id": "2b8cfa6a",
   "metadata": {},
   "source": [
    "### Assignment 15: List Intersection\n",
    "\n",
    "Write a function that takes two lists and returns a new list containing only the elements that are present in both lists. Print the intersected list."
   ]
  },
  {
   "cell_type": "code",
   "execution_count": null,
   "id": "7d30f9c0",
   "metadata": {},
   "outputs": [],
   "source": [
    "def intersect_list(lst1,lst2):\n",
    "   return [x for x in lst1 if x in lst2] # creates a new list with elements present in both lists\n",
    "lst1 = list(range(1,10))\n",
    "lst2 = list(range(5,15))\n",
    "list_intersection = intersect_list(lst1, lst2)\n",
    "\n",
    "print('Original List 1',lst1)\n",
    "print('Original List 2',lst2)\n",
    "print('Intersected List', list_intersection)\n",
    "\n",
    "intersect_list(lst1, lst2)"
   ]
  }
 ],
 "metadata": {
  "kernelspec": {
   "display_name": "Python 3",
   "language": "python",
   "name": "python3"
  },
  "language_info": {
   "codemirror_mode": {
    "name": "ipython",
    "version": 3
   },
   "file_extension": ".py",
   "mimetype": "text/x-python",
   "name": "python",
   "nbconvert_exporter": "python",
   "pygments_lexer": "ipython3",
   "version": "3.13.0"
  }
 },
 "nbformat": 4,
 "nbformat_minor": 5
}
