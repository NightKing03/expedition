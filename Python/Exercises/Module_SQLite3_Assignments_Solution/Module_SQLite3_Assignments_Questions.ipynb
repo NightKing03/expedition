{
 "cells": [
  {
   "cell_type": "markdown",
   "id": "964cf61d",
   "metadata": {},
   "source": [
    "# Module: SQLite3 Assignments\n",
    "## Lesson: SQLite3\n",
    "### Assignment 1: Creating and Connecting to a Database\n",
    "\n",
    "1. Write a Python function to create a new SQLite3 database named `test.db`.\n",
    "2. Write a Python function to create a table named `employees` with columns `id` (integer), `name` (text), `age` (integer), and `department` (text) in the `test.db` database.\n",
    "\n",
    "### Assignment 2: Inserting Data\n",
    "\n",
    "1. Write a Python function to insert a new employee into the `employees` table.\n",
    "2. Insert at least 5 different employees into the `employees` table.\n",
    "\n",
    "### Assignment 3: Querying Data\n",
    "\n",
    "1. Write a Python function to fetch and display all records from the `employees` table.\n",
    "2. Write a Python function to fetch and display all employees from a specific department.\n",
    "\n",
    "### Assignment 4: Updating Data\n",
    "\n",
    "1. Write a Python function to update the department of an employee based on their `id`.\n",
    "2. Update the department of at least 2 employees and display the updated records.\n",
    "\n",
    "### Assignment 5: Deleting Data\n",
    "\n",
    "1. Write a Python function to delete an employee from the `employees` table based on their `id`.\n",
    "2. Delete at least 1 employee and display the remaining records.\n",
    "\n",
    "### Assignment 6: Advanced Queries\n",
    "\n",
    "1. Write a Python function to fetch and display employees older than a certain age.\n",
    "2. Write a Python function to fetch and display employees whose names start with a specific letter.\n",
    "\n",
    "### Assignment 7: Handling Transactions\n",
    "\n",
    "1. Write a Python function to insert multiple employees into the `employees` table in a single transaction. Ensure that if any insertion fails, none of the insertions are committed.\n",
    "2. Write a Python function to update the age of multiple employees in a single transaction. Ensure that if any update fails, none of the updates are committed.\n",
    "\n",
    "### Assignment 8: Creating Relationships\n",
    "\n",
    "1. Create a new table named `departments` with columns `id` (integer) and `name` (text).\n",
    "2. Modify the `employees` table to include a foreign key referencing the `id` column in the `departments` table.\n",
    "3. Write a Python function to insert data into both the `departments` and `employees` tables, ensuring referential integrity.\n",
    "\n",
    "### Assignment 9: Indexing and Optimization\n",
    "\n",
    "1. Create an index on the `name` column of the `employees` table.\n",
    "2. Write a Python function to fetch and display all employees whose names start with a specific letter. Compare the performance with and without the index.\n",
    "\n",
    "### Assignment 10: Backing Up and Restoring Data\n",
    "\n",
    "1. Write a Python function to back up the `test.db` database to a file named `backup.db`.\n",
    "2. Write a Python function to restore the `test.db` database from the `backup.db` file."
   ]
  },
  {
   "cell_type": "markdown",
   "id": "7e18fd70",
   "metadata": {},
   "source": [
    "## Lesson: SQLite3\n",
    "### Assignment 1: Creating and Connecting to a Database\n",
    "\n",
    "1. Write a Python function to create a new SQLite3 database named `test.db`."
   ]
  },
  {
   "cell_type": "code",
   "execution_count": 80,
   "id": "71948228",
   "metadata": {},
   "outputs": [
    {
     "name": "stdout",
     "output_type": "stream",
     "text": [
      "Database created and successfully connected.\n"
     ]
    }
   ],
   "source": [
    "import sqlite3\n",
    "\n",
    "def create_database():\n",
    "    conn = sqlite3.connect('test.db')\n",
    "    conn.close()\n",
    "    print(\"Database created and successfully connected.\")\n",
    "\n",
    "create_database()"
   ]
  },
  {
   "cell_type": "markdown",
   "id": "619596f5",
   "metadata": {},
   "source": [
    "2. Write a Python function to create a table named `employees` with columns `id` (integer), `name` (text), `age` (integer), and `department` (text) in the `test.db` database."
   ]
  },
  {
   "cell_type": "code",
   "execution_count": 81,
   "id": "1fe8076b",
   "metadata": {},
   "outputs": [
    {
     "name": "stdout",
     "output_type": "stream",
     "text": [
      "Table 'employees' created successfully.\n"
     ]
    }
   ],
   "source": [
    "def create_table():\n",
    "    conn = sqlite3.connect('test.db')\n",
    "    cursor = conn.cursor()\n",
    "    cursor.execute('''\n",
    "        CREATE TABLE IF NOT EXISTS employees (\n",
    "            id INTEGER PRIMARY KEY,\n",
    "            name TEXT NOT NULL,\n",
    "            age INTEGER,\n",
    "            department TEXT\n",
    "        )\n",
    "    ''')\n",
    "    conn.commit()\n",
    "    conn.close()\n",
    "    print(\"Table 'employees' created successfully.\")\n",
    "\n",
    "# Test the function\n",
    "create_table()"
   ]
  },
  {
   "cell_type": "markdown",
   "id": "d6546d20",
   "metadata": {},
   "source": [
    "### Assignment 2: Inserting Data\n",
    "\n",
    "1. Write a Python function to insert a new employee into the `employees` table."
   ]
  },
  {
   "cell_type": "code",
   "execution_count": 82,
   "id": "84f4d61e",
   "metadata": {},
   "outputs": [],
   "source": [
    "def insert_employee(id,name, age, department):\n",
    "    conn = sqlite3.connect('test.db')\n",
    "    cursor = conn.cursor()\n",
    "\n",
    "    cursor.execute('''\n",
    "        INSERT INTO employees (id, name, age, department)\n",
    "        VALUES (?, ?, ?, ?)\n",
    "    ''', (id,name, age, department))\n",
    "    conn.commit()\n",
    "    conn.close()\n",
    "    print(\"Employee inserted successfully.\")\n"
   ]
  },
  {
   "cell_type": "markdown",
   "id": "2e736dd0",
   "metadata": {},
   "source": [
    "2. Insert at least 5 different employees into the `employees` table."
   ]
  },
  {
   "cell_type": "code",
   "execution_count": 83,
   "id": "1467f2a0",
   "metadata": {},
   "outputs": [
    {
     "name": "stdout",
     "output_type": "stream",
     "text": [
      "Employee inserted successfully.\n",
      "Employee inserted successfully.\n",
      "Employee inserted successfully.\n",
      "Employee inserted successfully.\n",
      "Employee inserted successfully.\n"
     ]
    }
   ],
   "source": [
    "insert_employee(22,'Bob',45,'HR')\n",
    "insert_employee(32,'Bobby',32,'PD')\n",
    "insert_employee(42,'Sally',26,'DS')\n",
    "insert_employee(54,'Vasu',28,'DS')\n",
    "insert_employee(35,'Apoorv',29,'DS')"
   ]
  },
  {
   "cell_type": "markdown",
   "id": "007936cf",
   "metadata": {},
   "source": [
    "### Assignment 3: Querying Data\n",
    "\n",
    "1. Write a Python function to fetch and display all records from the `employees` table."
   ]
  },
  {
   "cell_type": "code",
   "execution_count": 84,
   "id": "4882e26c",
   "metadata": {},
   "outputs": [
    {
     "name": "stdout",
     "output_type": "stream",
     "text": [
      "(22, 'Bob', 45, 'HR')\n",
      "(32, 'Bobby', 32, 'PD')\n",
      "(35, 'Apoorv', 29, 'DS')\n",
      "(42, 'Sally', 26, 'DS')\n",
      "(54, 'Vasu', 28, 'DS')\n"
     ]
    }
   ],
   "source": [
    "def fetch_all():\n",
    "    conn = sqlite3.connect('test.db')\n",
    "    cursor = conn.cursor()\n",
    "\n",
    "    cursor.execute('''Select * from Employees''')   # SQL Query\n",
    "    rows = cursor.fetchall() # to fetch all the rows\n",
    "\n",
    "    for row in rows:                # for loop to print the queried rows\n",
    "        print(row)\n",
    "\n",
    "    conn.commit()\n",
    "    conn.close()\n",
    "fetch_all()"
   ]
  },
  {
   "cell_type": "markdown",
   "id": "cf278dbd",
   "metadata": {},
   "source": [
    "2. Write a Python function to fetch and display all employees from a specific department."
   ]
  },
  {
   "cell_type": "code",
   "execution_count": 85,
   "id": "761291d4",
   "metadata": {},
   "outputs": [
    {
     "name": "stdout",
     "output_type": "stream",
     "text": [
      "(32, 'Bobby', 32, 'PD')\n"
     ]
    }
   ],
   "source": [
    "def specific(department):\n",
    "    conn = sqlite3.connect('test.db')\n",
    "    cursor = conn.cursor()\n",
    "    cursor.execute('''SELECT * FROM employees WHERE department = ?''', (department,))\n",
    "    records = cursor.fetchall()\n",
    "    conn.close()\n",
    "    for record in records:\n",
    "        print(record)\n",
    "\n",
    "# Test the function\n",
    "specific('PD')"
   ]
  },
  {
   "cell_type": "markdown",
   "id": "e5cc8ad6",
   "metadata": {},
   "source": [
    "### Assignment 4: Updating Data\n",
    "\n",
    "1. Write a Python function to update the department of an employee based on their `id`."
   ]
  },
  {
   "cell_type": "code",
   "execution_count": 86,
   "id": "4e6e2dfd",
   "metadata": {},
   "outputs": [
    {
     "name": "stdout",
     "output_type": "stream",
     "text": [
      "Employee table updated\n"
     ]
    }
   ],
   "source": [
    "def update_table(employee_id,new_department):\n",
    "    conn = sqlite3.connect('test.db')\n",
    "    cursor = conn.cursor()\n",
    "\n",
    "    cursor.execute('''Update employees\n",
    "    set department = ?\n",
    "    where id = ?''',(new_department,employee_id))\n",
    "\n",
    "    conn.commit()\n",
    "    conn.close()\n",
    "    print('Employee table updated')\n",
    "\n",
    "update_table(12,'Finance')"
   ]
  },
  {
   "cell_type": "markdown",
   "id": "61af48ec",
   "metadata": {},
   "source": [
    "2. Update the department of at least 2 employees and display the updated records."
   ]
  },
  {
   "cell_type": "code",
   "execution_count": 87,
   "id": "50bcb3fd",
   "metadata": {},
   "outputs": [
    {
     "name": "stdout",
     "output_type": "stream",
     "text": [
      "Employee table updated\n",
      "Employee table updated\n"
     ]
    }
   ],
   "source": [
    "update_table(33,'Logistics')\n",
    "update_table(44,'Product')"
   ]
  },
  {
   "cell_type": "markdown",
   "id": "93c5c7ce",
   "metadata": {},
   "source": [
    "### Assignment 5: Deleting Data\n",
    "\n",
    "1. Write a Python function to delete an employee from the `employees` table based on their `id`."
   ]
  },
  {
   "cell_type": "code",
   "execution_count": 88,
   "id": "7d3a6217",
   "metadata": {},
   "outputs": [
    {
     "name": "stdout",
     "output_type": "stream",
     "text": [
      "employee deleted\n"
     ]
    }
   ],
   "source": [
    "def delete(employee_id):\n",
    "    conn = sqlite3.connect('test.db')\n",
    "    cursor = conn.cursor()\n",
    "\n",
    "    cursor.execute('''\n",
    "    Delete from employees \n",
    "    where id = ?\n",
    "    \n",
    "    ''',(employee_id,))\n",
    "    print('employee deleted')\n",
    "    conn.commit()\n",
    "    conn.close()\n",
    "\n",
    "delete(22)"
   ]
  },
  {
   "cell_type": "markdown",
   "id": "a307a9c4",
   "metadata": {},
   "source": [
    "2. Delete at least 1 employee and display the remaining records."
   ]
  },
  {
   "cell_type": "code",
   "execution_count": 89,
   "id": "87f58e7e",
   "metadata": {},
   "outputs": [
    {
     "name": "stdout",
     "output_type": "stream",
     "text": [
      "employee deleted\n",
      "(35, 'Apoorv', 29, 'DS')\n",
      "(42, 'Sally', 26, 'DS')\n",
      "(54, 'Vasu', 28, 'DS')\n"
     ]
    }
   ],
   "source": [
    "delete(32)\n",
    "\n",
    "fetch_all()"
   ]
  },
  {
   "cell_type": "markdown",
   "id": "9c967207",
   "metadata": {},
   "source": [
    "### Assignment 6: Advanced Queries\n",
    "\n",
    "1. Write a Python function to fetch and display employees older than a certain age."
   ]
  },
  {
   "cell_type": "code",
   "execution_count": 94,
   "id": "21be514d",
   "metadata": {},
   "outputs": [
    {
     "name": "stdout",
     "output_type": "stream",
     "text": [
      "(35, 'Apoorv', 29, 'DS')\n",
      "(42, 'Sally', 26, 'DS')\n",
      "(54, 'Vasu', 28, 'DS')\n"
     ]
    }
   ],
   "source": [
    "def fetch_aged_employee(age):\n",
    "    conn = sqlite3.connect('test.db')\n",
    "    cursor = conn.cursor()\n",
    "\n",
    "    cursor.execute('Select * from employees where age > ?',(age,))\n",
    "    records = cursor.fetchall()\n",
    "    conn.close()\n",
    "\n",
    "    for record in records:\n",
    "        print(record)\n",
    "\n",
    "fetch_aged_employee(22)"
   ]
  },
  {
   "cell_type": "markdown",
   "id": "162603d6",
   "metadata": {},
   "source": [
    "2. Write a Python function to fetch and display employees whose names start with a specific letter."
   ]
  },
  {
   "cell_type": "code",
   "execution_count": null,
   "id": "eec8f9eb",
   "metadata": {},
   "outputs": [],
   "source": []
  },
  {
   "cell_type": "markdown",
   "id": "610e542b",
   "metadata": {},
   "source": [
    "### Assignment 7: Handling Transactions\n",
    "\n",
    "1. Write a Python function to insert multiple employees into the `employees` table in a single transaction. Ensure that if any insertion fails, none of the insertions are committed."
   ]
  },
  {
   "cell_type": "code",
   "execution_count": 99,
   "id": "2016b573",
   "metadata": {},
   "outputs": [
    {
     "name": "stdout",
     "output_type": "stream",
     "text": [
      "Error occurred, transaction rolled back.\n",
      "UNIQUE constraint failed: employees.id\n"
     ]
    }
   ],
   "source": [
    "def mulitple_employee(employees):\n",
    "    conn = sqlite3.connect('test.db')\n",
    "    cursor = conn.cursor()\n",
    "    try:\n",
    "        cursor.executemany('''INSERT INTO employees (id,name,age,department)\n",
    "        VALUES (?,?,?,?)''',employees)\n",
    "        conn.commit()\n",
    "        print('All employees data inserted')\n",
    "    except Exception as e:\n",
    "        conn.rollback()\n",
    "        print(\"Error occurred, transaction rolled back.\")\n",
    "        print(e)\n",
    "    finally:\n",
    "        conn.close()\n",
    "\n",
    "employees = [\n",
    "    (6, 'Frank', 40, 'Finance'),\n",
    "    (7, 'Grace', 29, 'Engineering'),\n",
    "    (8, 'Hannah', 35, 'Marketing'),\n",
    "    (9, 'Ivan', 38, 'Sales'),\n",
    "    (6, 'Jack', 45, 'HR')  # Duplicate ID to cause an error\n",
    "]\n",
    "\n",
    "mulitple_employee(employees)"
   ]
  },
  {
   "cell_type": "markdown",
   "id": "ef320a41",
   "metadata": {},
   "source": [
    "2. Write a Python function to update the age of multiple employees in a single transaction. Ensure that if any update fails, none of the updates are committed."
   ]
  },
  {
   "cell_type": "code",
   "execution_count": 104,
   "id": "55c654c8",
   "metadata": {},
   "outputs": [
    {
     "name": "stdout",
     "output_type": "stream",
     "text": [
      "Employees table updated\n"
     ]
    }
   ],
   "source": [
    "def update_multiple(updates):\n",
    "    conn = sqlite3.connect('test.db')\n",
    "    cursor = conn.cursor()\n",
    "    try:\n",
    "        cursor.executemany('''\n",
    "        UPDATE employees\n",
    "        SET age = ?\n",
    "        WHERE id = ?\n",
    "        ''',updates)\n",
    "        conn.commit()\n",
    "        print('Employees table updated')\n",
    "    except Exception as e:\n",
    "        conn.rollback()\n",
    "        print('Error occured while updating data')\n",
    "        print(e)\n",
    "    finally:\n",
    "        conn.close()\n",
    "\n",
    "updates = [\n",
    "    (18,54),\n",
    "    (10,10)\n",
    "]\n",
    "\n",
    "update_multiple(updates)"
   ]
  },
  {
   "cell_type": "code",
   "execution_count": null,
   "id": "587a03f6",
   "metadata": {},
   "outputs": [],
   "source": []
  }
 ],
 "metadata": {
  "kernelspec": {
   "display_name": "Python 3",
   "language": "python",
   "name": "python3"
  },
  "language_info": {
   "codemirror_mode": {
    "name": "ipython",
    "version": 3
   },
   "file_extension": ".py",
   "mimetype": "text/x-python",
   "name": "python",
   "nbconvert_exporter": "python",
   "pygments_lexer": "ipython3",
   "version": "3.13.0"
  }
 },
 "nbformat": 4,
 "nbformat_minor": 5
}
