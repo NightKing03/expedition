{
 "cells": [
  {
   "cell_type": "markdown",
   "metadata": {},
   "source": [
    "# Lesson 1.2: Python Basics\n",
    "## Topics Covered:\n",
    "- Syntax and Semantics\n",
    "- Variables and Data Types\n",
    "- Basic Operators (Arithmetic, Comparison, Logical)\n"
   ]
  },
  {
   "cell_type": "markdown",
   "metadata": {},
   "source": [
    "## 1. Syntax and Semantics\n",
    "\n",
    "**Question 1:** Write a Python program to print \"Hello, World!\"."
   ]
  },
  {
   "cell_type": "code",
   "execution_count": 1,
   "metadata": {},
   "outputs": [
    {
     "name": "stdout",
     "output_type": "stream",
     "text": [
      "Hello World\n"
     ]
    }
   ],
   "source": [
    "print(\"Hello World\")\n"
   ]
  },
  {
   "cell_type": "markdown",
   "metadata": {},
   "source": [
    "**Question 2:** Write a Python program that takes a user input and prints it."
   ]
  },
  {
   "cell_type": "code",
   "execution_count": 3,
   "metadata": {},
   "outputs": [
    {
     "name": "stdout",
     "output_type": "stream",
     "text": [
      "Akash\n"
     ]
    }
   ],
   "source": [
    "name = input(\"enter your name\")\n",
    "\n",
    "print(name)"
   ]
  },
  {
   "cell_type": "markdown",
   "metadata": {},
   "source": [
    "**Question 3:** Write a Python program to check if a number is positive, negative, or zero."
   ]
  },
  {
   "cell_type": "code",
   "execution_count": 9,
   "metadata": {},
   "outputs": [
    {
     "name": "stdout",
     "output_type": "stream",
     "text": [
      "zero\n"
     ]
    }
   ],
   "source": [
    "A = int (input('Enter number'))\n",
    "\n",
    "if A > 0:\n",
    "    print('Positive')\n",
    "elif A < 0:\n",
    "    print('negetive')\n",
    "else:\n",
    "    print(\"zero\")"
   ]
  },
  {
   "cell_type": "markdown",
   "metadata": {},
   "source": [
    "**Question 4:** Write a Python program to find the largest of three numbers."
   ]
  },
  {
   "cell_type": "code",
   "execution_count": 15,
   "metadata": {},
   "outputs": [
    {
     "name": "stdout",
     "output_type": "stream",
     "text": [
      "C is greater\n"
     ]
    }
   ],
   "source": [
    "a = input('Enter a number')\n",
    "b = input('Enter a number')\n",
    "c = input('Enter a number')\n",
    "\n",
    "if a >= b:\n",
    "    print('A is greater')\n",
    "elif b >= c:\n",
    "    print('B is greater')\n",
    "elif c >= a:\n",
    "    print('C is greater')\n",
    "else:\n",
    "    print('no')"
   ]
  },
  {
   "cell_type": "markdown",
   "metadata": {},
   "source": [
    "**Question 5:** Write a Python program to calculate the factorial of a number."
   ]
  },
  {
   "cell_type": "code",
   "execution_count": 66,
   "metadata": {},
   "outputs": [
    {
     "name": "stdout",
     "output_type": "stream",
     "text": [
      "The factorial of the 10 is 3628800\n"
     ]
    }
   ],
   "source": [
    "num = int(input('enter the number'))\n",
    "\n",
    "def factorial(n):\n",
    "    if n == 0:\n",
    "        return 1\n",
    "    else:\n",
    "        return n * factorial(n-1)\n",
    "\n",
    "print(f'The factorial of the {num} is {factorial(num)}')"
   ]
  },
  {
   "cell_type": "markdown",
   "metadata": {},
   "source": [
    "## 2. Variables and Data Types\n",
    "\n",
    "**Question 6:** Create variables of different data types: integer, float, string, and boolean. Print their values and types."
   ]
  },
  {
   "cell_type": "code",
   "execution_count": 30,
   "metadata": {},
   "outputs": [
    {
     "name": "stdout",
     "output_type": "stream",
     "text": [
      "4\n",
      "<class 'int'>\n",
      "4.2\n",
      "<class 'float'>\n",
      "hello\n",
      "<class 'str'>\n",
      "True\n",
      "<class 'bool'>\n"
     ]
    }
   ],
   "source": [
    "a = 4\n",
    "b = 4.2\n",
    "c = 'hello'\n",
    "d = True\n",
    "\n",
    "print(a)\n",
    "print(type(a))\n",
    "print(b)\n",
    "print(type(b))\n",
    "print(c)\n",
    "print(type(c))\n",
    "print(d)\n",
    "print(type(d))"
   ]
  },
  {
   "cell_type": "markdown",
   "metadata": {},
   "source": [
    "**Question 7:** Write a Python program to swap the values of two variables."
   ]
  },
  {
   "cell_type": "code",
   "execution_count": 39,
   "metadata": {},
   "outputs": [
    {
     "name": "stdout",
     "output_type": "stream",
     "text": [
      "Before swap a = 10, b = 12\n",
      "After swap a = 12 , b = 10\n"
     ]
    }
   ],
   "source": [
    "a = 10\n",
    "\n",
    "b = 12\n",
    "\n",
    "\n",
    "print(f'Before swap a = {a}, b = {b}')\n",
    "\n",
    "\n",
    "# swapping\n",
    "\n",
    "b, a = a, b\n",
    "\n",
    "print(f\"After swap a = {a} , b = {b}\")"
   ]
  },
  {
   "cell_type": "markdown",
   "metadata": {},
   "source": [
    "**Question 8:** Write a Python program to convert Celsius to Fahrenheit."
   ]
  },
  {
   "cell_type": "code",
   "execution_count": 60,
   "metadata": {},
   "outputs": [
    {
     "name": "stdout",
     "output_type": "stream",
     "text": [
      "temp in -40 is equal to -40.0\n"
     ]
    }
   ],
   "source": [
    "c = int(input('enter temp'))\n",
    "f = (c*9/5) + 32\n",
    "\n",
    "print(f'temp in {c} is equal to {f}')"
   ]
  },
  {
   "cell_type": "markdown",
   "metadata": {},
   "source": [
    "**Question 9:** Write a Python program to concatenate two strings."
   ]
  },
  {
   "cell_type": "code",
   "execution_count": 62,
   "metadata": {},
   "outputs": [
    {
     "name": "stdout",
     "output_type": "stream",
     "text": [
      "hello there\n"
     ]
    }
   ],
   "source": [
    "a = 'hello '\n",
    "\n",
    "b = 'there'\n",
    "\n",
    "print(a+b)"
   ]
  },
  {
   "cell_type": "markdown",
   "metadata": {},
   "source": [
    "**Question 10:** Write a Python program to check if a variable is of a specific data type."
   ]
  },
  {
   "cell_type": "code",
   "execution_count": 5,
   "metadata": {},
   "outputs": [
    {
     "name": "stdout",
     "output_type": "stream",
     "text": [
      "29.92 is float\n"
     ]
    }
   ],
   "source": [
    "var = 29.92\n",
    "\n",
    "if isinstance(var,float):\n",
    "    print(f'{var} is float')\n",
    "else:\n",
    "    print(f'{var} is not float')"
   ]
  },
  {
   "cell_type": "markdown",
   "metadata": {},
   "source": [
    "## 3. Basic Operators (Arithmetic, Comparison, Logical)\n",
    "\n",
    "**Question 11:** Write a Python program to perform arithmetic operations: addition, subtraction, multiplication, and division."
   ]
  },
  {
   "cell_type": "code",
   "execution_count": 16,
   "metadata": {},
   "outputs": [
    {
     "name": "stdout",
     "output_type": "stream",
     "text": [
      "Addtition 2 and 3 = 5\n",
      "Multiplication 2 and 3 = 6\n"
     ]
    }
   ],
   "source": [
    "def calc(a,b):\n",
    "    \n",
    "    return print(f\"Addtition {a} and {b} = {a+b}\\nMultiplication {a} and {b} = {a*b}\")\n",
    "\n",
    "calc(2,3)"
   ]
  },
  {
   "cell_type": "code",
   "execution_count": 7,
   "metadata": {},
   "outputs": [
    {
     "name": "stdout",
     "output_type": "stream",
     "text": [
      "Addition: 2 + 3 = 5\n",
      "Substraction: 5 - 4 = 1\n",
      "Multiplication: 2*3*4 = 24\n",
      "Division: 4/2 = 2.0\n"
     ]
    }
   ],
   "source": [
    "a = 2\n",
    "b = 3\n",
    "c = 4\n",
    "d = 5\n",
    "\n",
    "print(f'Addition: {a} + {b} = {a+b}')\n",
    "print(f'Substraction: {d} - {c} = {d-c}')\n",
    "print(f'Multiplication: {a}*{b}*{c} = {a*b*c}')\n",
    "print(f'Division: {c}/{2} = {c/2}')"
   ]
  },
  {
   "cell_type": "markdown",
   "metadata": {},
   "source": [
    "**Question 12:** Write a Python program to demonstrate comparison operators: equal to, not equal to, greater than, less than."
   ]
  },
  {
   "cell_type": "code",
   "execution_count": 55,
   "metadata": {},
   "outputs": [
    {
     "name": "stdout",
     "output_type": "stream",
     "text": [
      "22.0 = 22.0 is True\n",
      "22.0 != 22.0 is False\n",
      "22.0 > 22.0 is False\n",
      "22.0 < 22.0 isFalse\n"
     ]
    }
   ],
   "source": [
    "def compare():\n",
    "    a = float(input(\"enter a number\"))\n",
    "    b = float(input(\"enter a number\"))\n",
    "    return print(f'{a} = {b} is {a==b}\\n{a} != {b} is {a!=b}\\n{a} > {b} is {a>b}\\n{a} < {b} is {a<b}')\n",
    "    \n",
    "compare()"
   ]
  },
  {
   "cell_type": "markdown",
   "metadata": {},
   "source": [
    "**Question 13:** Write a Python program to demonstrate logical operators: and, or, not."
   ]
  },
  {
   "cell_type": "code",
   "execution_count": 46,
   "metadata": {},
   "outputs": [
    {
     "name": "stdout",
     "output_type": "stream",
     "text": [
      "True and False:False\n",
      "True or False:True\n",
      "Not True:False\n"
     ]
    }
   ],
   "source": [
    "def logic():\n",
    "    a = True\n",
    "    b = False\n",
    "    return print(f'True and False:{a and b}\\nTrue or False:{a or b}\\nNot True:{not a}')\n",
    "logic()"
   ]
  },
  {
   "cell_type": "markdown",
   "metadata": {},
   "source": [
    "**Question 14:** Write a Python program to calculate the square of a number."
   ]
  },
  {
   "cell_type": "code",
   "execution_count": 56,
   "metadata": {},
   "outputs": [
    {
     "name": "stdout",
     "output_type": "stream",
     "text": [
      "Square of the 23.0 is 529.0\n"
     ]
    }
   ],
   "source": [
    "def square():\n",
    "    num = float(input(\"Enter a Number\"))\n",
    "    print(f'Square of the {num} is {num*num}')\n",
    "square()"
   ]
  },
  {
   "cell_type": "markdown",
   "metadata": {},
   "source": [
    "**Question 15:** Write a Python program to check if a number is even or odd."
   ]
  },
  {
   "cell_type": "code",
   "execution_count": 61,
   "metadata": {},
   "outputs": [
    {
     "name": "stdout",
     "output_type": "stream",
     "text": [
      "23.0 is odd\n"
     ]
    }
   ],
   "source": [
    "def evod():\n",
    "    num = float(input(\"Enter a number\"))\n",
    "    if num%2 == 0:\n",
    "        print(f'{num} is even')\n",
    "    else:\n",
    "        print(f'{num} is odd')\n",
    "evod()"
   ]
  },
  {
   "cell_type": "markdown",
   "metadata": {},
   "source": [
    "**Question 16:** Write a Python program to find the sum of the first n natural numbers."
   ]
  },
  {
   "cell_type": "code",
   "execution_count": 63,
   "metadata": {},
   "outputs": [
    {
     "name": "stdout",
     "output_type": "stream",
     "text": [
      "sum of 22 digit natural number is 253\n"
     ]
    }
   ],
   "source": [
    "def natural():\n",
    "    n = int(input(\"enter a number\"))\n",
    "    sum_n = n * (n + 1) // 2\n",
    "    print(f'sum of {n} digit natural number is {sum_n}')\n",
    "natural()"
   ]
  },
  {
   "cell_type": "markdown",
   "metadata": {},
   "source": [
    "**Question 17:** Write a Python program to check if a year is a leap year."
   ]
  },
  {
   "cell_type": "code",
   "execution_count": 66,
   "metadata": {},
   "outputs": [
    {
     "data": {
      "text/plain": [
       "False"
      ]
     },
     "execution_count": 66,
     "metadata": {},
     "output_type": "execute_result"
    }
   ],
   "source": [
    "def leap():\n",
    "    year = int(input(\"Enter Year\"))\n",
    "    return (year % 4 == 0) and (year % 100 != 0 or year % 400 == 0)\n",
    "leap()"
   ]
  },
  {
   "cell_type": "markdown",
   "metadata": {},
   "source": [
    "**Question 18:** Write a Python program to reverse a string."
   ]
  },
  {
   "cell_type": "code",
   "execution_count": 73,
   "metadata": {},
   "outputs": [
    {
     "name": "stdout",
     "output_type": "stream",
     "text": [
      "yeh\n"
     ]
    }
   ],
   "source": [
    "text = input(\"enter something\")\n",
    "rev_text = text[::-1] # slicing end to end backwards\n",
    "print(rev_text)"
   ]
  },
  {
   "cell_type": "markdown",
   "metadata": {},
   "source": [
    "**Question 19:** Write a Python program to check if a string is a palindrome."
   ]
  },
  {
   "cell_type": "code",
   "execution_count": 79,
   "metadata": {},
   "outputs": [
    {
     "name": "stdout",
     "output_type": "stream",
     "text": [
      "122212 is not a palindrome\n"
     ]
    }
   ],
   "source": [
    "text = input(\"enter something\")\n",
    "if text == text[::-1]:\n",
    "    print(f'{text} is a palindrome')\n",
    "else:\n",
    "    print(f'{text} is not a palindrome')"
   ]
  },
  {
   "cell_type": "markdown",
   "metadata": {},
   "source": [
    "**Question 20:** Write a Python program to sort a list of numbers in ascending order."
   ]
  },
  {
   "cell_type": "code",
   "execution_count": 85,
   "metadata": {},
   "outputs": [
    {
     "name": "stdout",
     "output_type": "stream",
     "text": [
      "sorted_list is [1, 1, 2, 2, 11, 22, 33, 44]\n"
     ]
    }
   ],
   "source": [
    "num = [int(x) for x in input(\"Enter numbers seperated by space:\").split()]\n",
    "num.sort()\n",
    "print(f'sorted_list is {num}')"
   ]
  }
 ],
 "metadata": {
  "kernelspec": {
   "display_name": "Python 3",
   "language": "python",
   "name": "python3"
  },
  "language_info": {
   "codemirror_mode": {
    "name": "ipython",
    "version": 3
   },
   "file_extension": ".py",
   "mimetype": "text/x-python",
   "name": "python",
   "nbconvert_exporter": "python",
   "pygments_lexer": "ipython3",
   "version": "3.11.11"
  }
 },
 "nbformat": 4,
 "nbformat_minor": 4
}
